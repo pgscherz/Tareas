{
 "cells": [
  {
   "cell_type": "markdown",
   "id": "ef86e945",
   "metadata": {},
   "source": [
    "# Tarea 9.4"
   ]
  },
  {
   "cell_type": "markdown",
   "id": "00c45fdf",
   "metadata": {},
   "source": [
    "Suponga que la medición de un cierto proceso físico da como resultado la siguiente expresión\n",
    "\n",
    "$$\n",
    "p(x) = \\sin x + n(x)\n",
    "$$\n",
    "\n",
    "donde $n$ es el error experimental que podemos describir como un número aleatorio, para cada valor de $x$, tomado de una distribución gaussiana con media $0$ y desviación estándar $10^{-5}$. Queremos calcular la integral\n",
    "\n",
    "$$\n",
    "\\int_0^1 dx\\,p(x)\\,.\n",
    "$$\n",
    "\n",
    "Use el método compuesto de Simpson para calcular esta integral. El verdadero valor de esta integral es $1-\\cos(1)$. Grafique el error cometido en función de $h$. ¿Se puede lograr una precisión de $10^{-7}$? ¿Por qué?"
   ]
  },
  {
   "cell_type": "markdown",
   "id": "e6a5ef57",
   "metadata": {},
   "source": [
    "## Solución "
   ]
  },
  {
   "cell_type": "code",
   "execution_count": 66,
   "id": "512f4967",
   "metadata": {},
   "outputs": [],
   "source": [
    "import numpy as np\n",
    "import matplotlib.pyplot as plt"
   ]
  },
  {
   "cell_type": "code",
   "execution_count": 67,
   "id": "d927fec5",
   "metadata": {},
   "outputs": [],
   "source": [
    "n=55 "
   ]
  },
  {
   "cell_type": "code",
   "execution_count": 68,
   "id": "28bffbc2",
   "metadata": {},
   "outputs": [],
   "source": [
    "x=np.linspace(0, 1, n)"
   ]
  },
  {
   "cell_type": "code",
   "execution_count": 69,
   "id": "581481d0",
   "metadata": {},
   "outputs": [],
   "source": [
    "# Generamos la función p(x) = sin x + n(x).\n",
    "def p(x):\n",
    "    return np.sin(x) + np.random.normal(0,10**(-5),n)"
   ]
  },
  {
   "cell_type": "code",
   "execution_count": 70,
   "id": "31981a31",
   "metadata": {},
   "outputs": [],
   "source": [
    "# Guardamos en una array los datos de p(x). \n",
    "p=p(x)"
   ]
  },
  {
   "cell_type": "code",
   "execution_count": 71,
   "id": "005546e9",
   "metadata": {},
   "outputs": [],
   "source": [
    "# Función del método compuesto de Simpson para p(x).\n",
    "def Simpson(a,b,n):\n",
    "    h = (b - a) / n\n",
    "    i = p[2:n-2:2]\n",
    "    j = p[1:n-1:2]\n",
    "    return (h/3) * (p[0] + 2*sum(i)+ 4*sum(j) + p[n-1])"
   ]
  },
  {
   "cell_type": "code",
   "execution_count": 72,
   "id": "43d73df2",
   "metadata": {},
   "outputs": [
    {
     "data": {
      "text/plain": [
       "0.4513426946664478"
      ]
     },
     "execution_count": 72,
     "metadata": {},
     "output_type": "execute_result"
    }
   ],
   "source": [
    "# Calculamos el valor de la integral con el método compuesto de Simpson.\n",
    "Simpson(0,1,n)"
   ]
  },
  {
   "cell_type": "code",
   "execution_count": 73,
   "id": "e9dd4079",
   "metadata": {},
   "outputs": [],
   "source": [
    "numeros = np.array([Simpson(0,1,(n+1)) for n in range(n)])"
   ]
  },
  {
   "cell_type": "code",
   "execution_count": 74,
   "id": "0e78fdf7",
   "metadata": {},
   "outputs": [],
   "source": [
    "# Generamos una array con el error cometido en función de \"n\".\n",
    "error = (1-np.cos(1))-numeros"
   ]
  },
  {
   "cell_type": "code",
   "execution_count": 75,
   "id": "e7e2672b",
   "metadata": {},
   "outputs": [],
   "source": [
    "# Como la integral es desde \"0 a 1\", el valor de \"h\" esta dado por 1/n. \n",
    "h1 = 1/(np.linspace(1, n, n))"
   ]
  },
  {
   "cell_type": "code",
   "execution_count": 76,
   "id": "48dafd23",
   "metadata": {},
   "outputs": [
    {
     "data": {
      "image/png": "[encoded data removed]",
      "text/plain": [
       "<Figure size 432x288 with 1 Axes>"
      ]
     },
     "metadata": {
      "needs_background": "light"
     },
     "output_type": "display_data"
    }
   ],
   "source": [
    "# Graficamos el error cometido en función de \"h\".\n",
    "plt.plot(h1, error , marker='o')\n",
    "plt.show()"
   ]
  },
  {
   "cell_type": "markdown",
   "id": "6a0da6fa",
   "metadata": {},
   "source": [
    "Exprimiendo mi computador conseguí un error de 1.4491586708409443e-08 con el termino n=90000000 "
   ]
  },
  {
   "cell_type": "markdown",
   "id": "5f5d7015",
   "metadata": {},
   "source": [
    "# Calificación: 6.8"
   ]
  },
  {
   "cell_type": "markdown",
   "id": "da630c9f",
   "metadata": {},
   "source": [
    "Faltó discutir sobre la estabilidad del método."
   ]
  }
 ],
 "metadata": {
  "kernelspec": {
   "display_name": "Python 3",
   "language": "python",
   "name": "python3"
  },
  "language_info": {
   "codemirror_mode": {
    "name": "ipython",
    "version": 3
   },
   "file_extension": ".py",
   "mimetype": "text/x-python",
   "name": "python",
   "nbconvert_exporter": "python",
   "pygments_lexer": "ipython3",
   "version": "3.8.5"
  }
 },
 "nbformat": 4,
 "nbformat_minor": 5
}
