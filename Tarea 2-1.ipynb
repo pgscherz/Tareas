{
 "cells": [
  {
   "cell_type": "markdown",
   "id": "645f708b",
   "metadata": {},
   "source": [
    "# Tarea 2.1"
   ]
  },
  {
   "cell_type": "markdown",
   "id": "c2362828",
   "metadata": {},
   "source": [
    "Escriba un código que tome un arreglo lleno de ceros, producido con np.zeros((3,2)) y usando ciclos for lo llena para obtener\n"
   ]
  },
  {
   "cell_type": "raw",
   "id": "ed039927",
   "metadata": {},
   "source": [
    "array([[1., 2.],\n",
    "       [3., 4.],\n",
    "       [5., 6.]])"
   ]
  },
  {
   "cell_type": "markdown",
   "id": "4e5d8965",
   "metadata": {},
   "source": [
    "Solucion"
   ]
  },
  {
   "cell_type": "code",
   "execution_count": 1,
   "id": "2388ef4e",
   "metadata": {},
   "outputs": [],
   "source": [
    "#Importamos numpy.\n",
    "\n",
    "import numpy as np"
   ]
  },
  {
   "cell_type": "code",
   "execution_count": 2,
   "id": "e710bbe4",
   "metadata": {
    "scrolled": true
   },
   "outputs": [],
   "source": [
    "#Generamos la matriz de ceros.\n",
    "\n",
    "arreglo = np.zeros((3,2))"
   ]
  },
  {
   "cell_type": "code",
   "execution_count": 3,
   "id": "ab059648",
   "metadata": {},
   "outputs": [
    {
     "data": {
      "text/plain": [
       "array([[0., 0.],\n",
       "       [0., 0.],\n",
       "       [0., 0.]])"
      ]
     },
     "execution_count": 3,
     "metadata": {},
     "output_type": "execute_result"
    }
   ],
   "source": [
    "arreglo"
   ]
  },
  {
   "cell_type": "code",
   "execution_count": 4,
   "id": "7e6d6fd5",
   "metadata": {
    "scrolled": false
   },
   "outputs": [],
   "source": [
    "#LLenamos la matriz de números con ciclos for.\n",
    "#Generamos la sucesión (1,3,5), con el primer ciclo for usando la formula 2*i+1.\n",
    "#El segundo ciclo for solo genera los valores 0 y 1.\n",
    "#La primera columna del arreglo la generamos sumando 0 a cada termino de la sucesión (1,3,5).\n",
    "#La segunda columna del arreglo la generamos sumando 1 a cada termino de la sucesión (1,3,5).\n",
    "\n",
    "for i in range(3):\n",
    "    for j in range(2):\n",
    "            a=2*i+1\n",
    "            b=j\n",
    "            arreglo[i,j]=a+b"
   ]
  },
  {
   "cell_type": "code",
   "execution_count": 5,
   "id": "9ee4b1cb",
   "metadata": {},
   "outputs": [
    {
     "data": {
      "text/plain": [
       "array([[1., 2.],\n",
       "       [3., 4.],\n",
       "       [5., 6.]])"
      ]
     },
     "execution_count": 5,
     "metadata": {},
     "output_type": "execute_result"
    }
   ],
   "source": [
    "#Finalmente tenemos.\n",
    "\n",
    "arreglo"
   ]
  },
  {
   "cell_type": "markdown",
   "id": "73ca8bc4",
   "metadata": {},
   "source": [
    "# Calificación: 7.0"
   ]
  }
 ],
 "metadata": {
  "kernelspec": {
   "display_name": "Python 3",
   "language": "python",
   "name": "python3"
  },
  "language_info": {
   "codemirror_mode": {
    "name": "ipython",
    "version": 3
   },
   "file_extension": ".py",
   "mimetype": "text/x-python",
   "name": "python",
   "nbconvert_exporter": "python",
   "pygments_lexer": "ipython3",
   "version": "3.8.5"
  }
 },
 "nbformat": 4,
 "nbformat_minor": 5
}
