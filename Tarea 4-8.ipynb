{
 "cells": [
  {
   "cell_type": "markdown",
   "id": "abd1bada",
   "metadata": {},
   "source": [
    "# Tarea 4.8"
   ]
  },
  {
   "cell_type": "markdown",
   "id": "3dcebe0b",
   "metadata": {},
   "source": [
    "Un colega le entrega a usted archivos de texto con los resultados de una simulación (simulacion.txt). Este archivo contiene tres columnas separadas por espacios tal que cada fila es un dato y las tres columnas son tres propiedades simuladas de ese dato. \n",
    "\n",
    "Escriba una función que lea ese archivo de texto y lo vuelva a guardar en un archivo simulacion.hd5 con tres datasets correspondientes a las tres propiedades de cada dato.\n",
    "\n",
    "Como usted quiere reutilizar esta función para cualquier otro archivo con tres columnas, la función debe tomar el nombre del archivo de texto y el nombre deseado para el nuevo archivo hd5 como argumentos.\n",
    "\n",
    "El archivo simulacion.txt contiene por ejemplo lo siguiente:"
   ]
  },
  {
   "cell_type": "raw",
   "id": "a9ce88e7",
   "metadata": {},
   "source": [
    "3.141590000000000094e-03 2.557680595776000416e+02 4.501400409434224770e+01 \n",
    "6.283180000000000189e-03 3.752818426478838205e+02 2.947770471609068110e+01 \n",
    "9.424770000000000716e-03 4.246697882492646841e+02 2.843524433400840579e+01 \n",
    "1.256636000000000038e-02 4.676325636948347437e+02 2.576223788106328882e+01 \n",
    "1.570795000000000177e-02 4.820912691815412359e+02 1.530261598082400276e+01 \n",
    "1.884954000000000143e-02 4.337667969674867550e+02 1.450243036000263963e+01 \n",
    "2.199113000000000109e-02 4.299064323187142804e+02 7.689521175184014012e+00 \n",
    "2.513272000000000075e-02 3.840742743415148084e+02 5.880658615460115257e+00 \n",
    "2.827431000000000041e-02 3.464876766126099596e+02 5.062040746246734280e+00"
   ]
  },
  {
   "cell_type": "markdown",
   "id": "e63bb135",
   "metadata": {},
   "source": [
    "## Solución"
   ]
  },
  {
   "cell_type": "code",
   "execution_count": 1,
   "id": "547bc07c",
   "metadata": {},
   "outputs": [],
   "source": [
    "import numpy as np\n",
    "import h5py"
   ]
  },
  {
   "cell_type": "markdown",
   "id": "90d4a8d0",
   "metadata": {},
   "source": [
    "Para que este código funcione, necesitamos tener el archivo de texto con los datos en la misma carpeta donde este guardado este código."
   ]
  },
  {
   "cell_type": "code",
   "execution_count": 2,
   "id": "72eda20f",
   "metadata": {},
   "outputs": [],
   "source": [
    "def convertir(datos_en_txt, datos_en_hd5):\n",
    "    \n",
    "    '''Esta función transforma archivos en .txt de tres columnas a archivos hd5'''\n",
    "    #leemos el archivo .txt.\n",
    "    A=np.loadtxt(datos_en_txt)\n",
    "    print(A)\n",
    "    \n",
    "    #separamos las columnas del archivo .txt.\n",
    "    x,y,z=np.loadtxt(datos_en_txt, unpack=True)\n",
    "\n",
    "    #Ahora lo grabamos como un archivo hd5.\n",
    "    with h5py.File(datos_en_hd5, 'w') as file:\n",
    "        propiedad1 = file.create_dataset('propiedad1', data=x)\n",
    "        propiedad2 = file.create_dataset('propiedad2', data=y)\n",
    "        propiedad3 = file.create_dataset('propiedad3', data=z)\n",
    "    "
   ]
  },
  {
   "cell_type": "markdown",
   "id": "58683774",
   "metadata": {},
   "source": [
    "Ejecutamos y se nos imprimirán los datos originales, y generaremos un nuevo archivo que contenga los datos en hd5."
   ]
  },
  {
   "cell_type": "code",
   "execution_count": 3,
   "id": "5e84b507",
   "metadata": {},
   "outputs": [
    {
     "name": "stdout",
     "output_type": "stream",
     "text": [
      "[[3.14159000e-03 2.55768060e+02 4.50140041e+01]\n",
      " [6.28318000e-03 3.75281843e+02 2.94777047e+01]\n",
      " [9.42477000e-03 4.24669788e+02 2.84352443e+01]\n",
      " [1.25663600e-02 4.67632564e+02 2.57622379e+01]\n",
      " [1.57079500e-02 4.82091269e+02 1.53026160e+01]\n",
      " [1.88495400e-02 4.33766797e+02 1.45024304e+01]\n",
      " [2.19911300e-02 4.29906432e+02 7.68952118e+00]\n",
      " [2.51327200e-02 3.84074274e+02 5.88065862e+00]\n",
      " [2.82743100e-02 3.46487677e+02 5.06204075e+00]]\n"
     ]
    }
   ],
   "source": [
    "#Ahora ejecutamos la función anterior con el nombre real de nuestro archivo de texto y el nombre con el cual queramos guardar el archivo hd5.\n",
    "convertir('simulacion.txt','simulacion_trasformada')"
   ]
  },
  {
   "cell_type": "code",
   "execution_count": null,
   "id": "d6bb8493",
   "metadata": {},
   "outputs": [],
   "source": []
  }
 ],
 "metadata": {
  "kernelspec": {
   "display_name": "Python 3",
   "language": "python",
   "name": "python3"
  },
  "language_info": {
   "codemirror_mode": {
    "name": "ipython",
    "version": 3
   },
   "file_extension": ".py",
   "mimetype": "text/x-python",
   "name": "python",
   "nbconvert_exporter": "python",
   "pygments_lexer": "ipython3",
   "version": "3.8.3"
  }
 },
 "nbformat": 4,
 "nbformat_minor": 5
}
