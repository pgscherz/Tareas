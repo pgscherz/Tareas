{
 "cells": [
  {
   "cell_type": "markdown",
   "id": "fb76a9db",
   "metadata": {},
   "source": [
    "# Tarea 3.7"
   ]
  },
  {
   "cell_type": "markdown",
   "id": "c48a1d6d",
   "metadata": {},
   "source": [
    "Ejercicio 1.3.1 del libro de Burden: Use números de punto flotante de 16 bits para calcular las siguientes sumas. Explique por qué ambos métodos en cada caso dan resultados diferentes y cuál es la más correcta.\n",
    "\n",
    "* $\\sum_{n = 1}^{100}\\frac{1}{n^2}$ primero de la forma $1 + \\frac{1}{4} + \\frac{1}{9} + \\dots + \\frac{1}{10^4}$ y luego en la forma $\\frac{1}{10^4} + \\dots + \\frac{1}{9} + \\frac{1}{4} + 1$.\n",
    "\n",
    "* $\\sum_{n = 1}^{100}\\frac{1}{n^3}$ primero de la forma $1 + \\frac{1}{8} + \\frac{1}{27} + \\dots + \\frac{1}{10^6}$ y luego en la forma $\\frac{1}{10^6} + \\dots + \\frac{1}{27} + \\frac{1}{8} + 1$."
   ]
  },
  {
   "cell_type": "markdown",
   "id": "b9b36e0c",
   "metadata": {},
   "source": [
    "## Solución  "
   ]
  },
  {
   "cell_type": "markdown",
   "id": "5b241036",
   "metadata": {},
   "source": [
    "### Primer caso"
   ]
  },
  {
   "cell_type": "markdown",
   "id": "402b57de",
   "metadata": {},
   "source": [
    "Primero haremos la sumatoria con los términos ordenados del 1 al 100: $\\sum_{n = 1}^{100}\\frac{1}{n^2}$ con la forma $1 + \\frac{1}{4} + \\frac{1}{9} + \\dots + \\frac{1}{10^4}$"
   ]
  },
  {
   "cell_type": "code",
   "execution_count": 1,
   "id": "3a319f29",
   "metadata": {},
   "outputs": [],
   "source": [
    "import numpy as np"
   ]
  },
  {
   "cell_type": "code",
   "execution_count": 2,
   "id": "db531f21",
   "metadata": {},
   "outputs": [],
   "source": [
    "#Generamos un ciclo for para hacer la sumatoria con números de 16 bits.\n",
    "suma1 =np.float16(0)\n",
    "for i in range(100):\n",
    "    i=np.float16(i)+np.float16(1)\n",
    "    suma1+=np.float16(1)/(i**np.float16(2))"
   ]
  },
  {
   "cell_type": "code",
   "execution_count": 3,
   "id": "7660a9d0",
   "metadata": {},
   "outputs": [
    {
     "data": {
      "text/plain": [
       "1.627"
      ]
     },
     "execution_count": 3,
     "metadata": {},
     "output_type": "execute_result"
    }
   ],
   "source": [
    "#Obtenemos:\n",
    "suma1"
   ]
  },
  {
   "cell_type": "markdown",
   "id": "70daa94d",
   "metadata": {},
   "source": [
    "Ahora hacemos la misma sumatoria, pero partiendo del último termino hacia el primero:   $\\sum_{n = 1}^{100}\\frac{1}{n^2}$de la forma $\\frac{1}{10^4} + \\dots + \\frac{1}{9} + \\frac{1}{4} + 1$"
   ]
  },
  {
   "cell_type": "code",
   "execution_count": 4,
   "id": "4cb13a3e",
   "metadata": {},
   "outputs": [],
   "source": [
    "#Nuevamente generamos un ciclo for para hacer la sumatoria con números de 16 bits pero invirtiendo el orden  de la suma.\n",
    "#Con el comando \"reversed\" hacemos que el ciclo for genere los números desde el 100 hasta el 1.\n",
    "suma2 =np.float16(0)\n",
    "for j in reversed(range(100)):\n",
    "    j=np.float16(j)+np.float16(1)\n",
    "    suma2+=np.float16(1)/(j**np.float16(2))"
   ]
  },
  {
   "cell_type": "code",
   "execution_count": 5,
   "id": "bf0dbcd0",
   "metadata": {},
   "outputs": [
    {
     "data": {
      "text/plain": [
       "1.635"
      ]
     },
     "execution_count": 5,
     "metadata": {},
     "output_type": "execute_result"
    }
   ],
   "source": [
    "#Obtenemos:\n",
    "suma2"
   ]
  },
  {
   "cell_type": "markdown",
   "id": "637c9906",
   "metadata": {},
   "source": [
    " El valor real de la sumatoria es aproximadamente de 1.63498, por lo cual el segundo método es más preciso al darnos un valor  de 1.635\n"
   ]
  },
  {
   "cell_type": "markdown",
   "id": "6cf73438",
   "metadata": {},
   "source": [
    "### Segundo caso"
   ]
  },
  {
   "cell_type": "markdown",
   "id": "71fc569d",
   "metadata": {},
   "source": [
    "\n",
    "* $\\sum_{n = 1}^{100}\\frac{1}{n^3}$ primero de la forma $1 + \\frac{1}{8} + \\frac{1}{27} + \\dots + \\frac{1}{10^6}$ "
   ]
  },
  {
   "cell_type": "code",
   "execution_count": 6,
   "id": "c1b4fbc4",
   "metadata": {},
   "outputs": [
    {
     "name": "stderr",
     "output_type": "stream",
     "text": [
      "<ipython-input-6-bcfefb522bc9>:5: RuntimeWarning: overflow encountered in half_scalars\n",
      "  suma3+=np.float16(1)/(i**np.float16(3))\n"
     ]
    }
   ],
   "source": [
    "#Repetimos el mismo procedimiento que en la \"suma1\", solo que cambiamos el exponente de la sumatoria. \n",
    "suma3 =np.float16(0)\n",
    "for i in range(100):\n",
    "    i=np.float16(i)+np.float16(1)\n",
    "    suma3+=np.float16(1)/(i**np.float16(3))"
   ]
  },
  {
   "cell_type": "code",
   "execution_count": 7,
   "id": "1530c108",
   "metadata": {},
   "outputs": [
    {
     "data": {
      "text/plain": [
       "1.199"
      ]
     },
     "execution_count": 7,
     "metadata": {},
     "output_type": "execute_result"
    }
   ],
   "source": [
    "#Obtenemos:\n",
    "suma3"
   ]
  },
  {
   "cell_type": "markdown",
   "id": "887fe7d5",
   "metadata": {},
   "source": [
    "* $\\sum_{n = 1}^{100}\\frac{1}{n^3}$ ahora con la forma $\\frac{1}{10^6} + \\dots + \\frac{1}{27} + \\frac{1}{8} + 1$"
   ]
  },
  {
   "cell_type": "code",
   "execution_count": 8,
   "id": "86ce29e1",
   "metadata": {},
   "outputs": [
    {
     "name": "stderr",
     "output_type": "stream",
     "text": [
      "<ipython-input-8-e29af3cdd604>:5: RuntimeWarning: overflow encountered in half_scalars\n",
      "  suma4+=np.float16(1)/(j**np.float16(3))\n"
     ]
    }
   ],
   "source": [
    "#Repetimos el mismo procedimiento que en la \"suma2\", solo que cambiamos el exponente de la sumatoria.\n",
    "suma4 =np.float16(0)\n",
    "for j in reversed(range(100)):\n",
    "    j=np.float16(j)+np.float16(1)\n",
    "    suma4+=np.float16(1)/(j**np.float16(3))"
   ]
  },
  {
   "cell_type": "code",
   "execution_count": 9,
   "id": "09ea0f9b",
   "metadata": {},
   "outputs": [
    {
     "data": {
      "text/plain": [
       "1.202"
      ]
     },
     "execution_count": 9,
     "metadata": {},
     "output_type": "execute_result"
    }
   ],
   "source": [
    "#Obtenemos:\n",
    "suma4"
   ]
  },
  {
   "cell_type": "markdown",
   "id": "e0e2d88f",
   "metadata": {},
   "source": [
    "Nuevamente el segundo método para hacer la sumatoria es más preciso, ya que aproximadamente el valor real de la sumatoria es de 1.20200"
   ]
  },
  {
   "cell_type": "markdown",
   "id": "802dc4f2",
   "metadata": {},
   "source": [
    "### Explicacion"
   ]
  },
  {
   "cell_type": "markdown",
   "id": "fe9848df",
   "metadata": {},
   "source": [
    "Debe existir un error de redondeo si en cada caso ambos métodos dan resultados diferentes, al parecer resulta más correcto el segundo método (donde hacemos la sumatoria desde el ultimo termino al primero) y esto debido a que estamos sumando los términos más pequeños al inicio de la sumatoria, resultando en un error de redondeo menor al que obtenemos al hacer la sumatoria de manera tradicional."
   ]
  },
  {
   "cell_type": "markdown",
   "id": "c3f2ed6e",
   "metadata": {},
   "source": [
    "# Calificación: 7.0"
   ]
  },
  {
   "cell_type": "markdown",
   "id": "94f63f45",
   "metadata": {},
   "source": [
    "Faltó solo ser más preciso: En el primer caso, en los últimos términos de la sumatoria, se suman números muy diferentes (la suma va siendo un número grande y el siguiente número es pequeño). En estas situaciones se incurre siempre en un mayor error de redondeo (el computador al sumar primero convierte ambos números al exponente del número más grande)."
   ]
  }
 ],
 "metadata": {
  "kernelspec": {
   "display_name": "Python 3",
   "language": "python",
   "name": "python3"
  },
  "language_info": {
   "codemirror_mode": {
    "name": "ipython",
    "version": 3
   },
   "file_extension": ".py",
   "mimetype": "text/x-python",
   "name": "python",
   "nbconvert_exporter": "python",
   "pygments_lexer": "ipython3",
   "version": "3.8.5"
  }
 },
 "nbformat": 4,
 "nbformat_minor": 5
}
